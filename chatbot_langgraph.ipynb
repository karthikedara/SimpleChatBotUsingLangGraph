{
 "cells": [
  {
   "cell_type": "code",
   "execution_count": 2,
   "id": "28aecf8c",
   "metadata": {},
   "outputs": [],
   "source": [
    "from typing_extensions import TypedDict\n",
    "from langgraph.graph import START,END,StateGraph\n",
    "from typing import Annotated\n",
    "from langgraph.graph import add_messages"
   ]
  },
  {
   "cell_type": "code",
   "execution_count": 4,
   "id": "f1db486e",
   "metadata": {},
   "outputs": [],
   "source": [
    "class State(TypedDict):\n",
    "    messages:Annotated[list,add_messages]"
   ]
  },
  {
   "cell_type": "code",
   "execution_count": 5,
   "id": "fef981e7",
   "metadata": {},
   "outputs": [],
   "source": [
    "import os\n",
    "from langchain_groq import ChatGroq\n",
    "from dotenv import load_dotenv\n",
    "load_dotenv()\n",
    "\n",
    "os.environ[\"GROQ_API_KEY\"]= os.getenv(\"GROQ_API_KEY\")\n",
    "llm = ChatGroq(model=\"qwen/qwen3-32b\")"
   ]
  },
  {
   "cell_type": "code",
   "execution_count": 7,
   "metadata": {},
   "outputs": [
    {
     "data": {
      "text/plain": [
       "AIMessage(content='<think>\\nOkay, the user introduced himself as Karthik. I should respond warmly to acknowledge his introduction. I need to make sure my response is friendly and open to encourage further conversation. Maybe ask how I can assist him today. Keep it simple and welcoming.\\n</think>\\n\\nHi Karthik! Nice to meet you. How can I assist you today? 😊', additional_kwargs={}, response_metadata={'token_usage': {'completion_tokens': 75, 'prompt_tokens': 15, 'total_tokens': 90, 'completion_time': 0.171379192, 'prompt_time': 0.00709388, 'queue_time': 0.05282534, 'total_time': 0.178473072}, 'model_name': 'qwen/qwen3-32b', 'system_fingerprint': 'fp_5cf921caa2', 'service_tier': 'on_demand', 'finish_reason': 'stop', 'logprobs': None}, id='run--6cdc770c-2c3f-47ee-9c6b-51444e5ba0c3-0', usage_metadata={'input_tokens': 15, 'output_tokens': 75, 'total_tokens': 90})"
      ]
     },
     "execution_count": 7,
     "metadata": {},
     "output_type": "execute_result"
    }
   ],
   "source": [
    "llm.invoke(\"Hi, I am karthik\")"
   ]
  },
  {
   "cell_type": "code",
   "execution_count": 8,
   "metadata": {},
   "outputs": [],
   "source": [
    "def superbot(state:State):\n",
    "    return {\"messages\":[llm.invoke(state[\"messages\"])]}"
   ]
  },
  {
   "cell_type": "code",
   "execution_count": 9,
   "id": "6e2effb8",
   "metadata": {},
   "outputs": [],
   "source": [
    "graph=StateGraph(State)"
   ]
  },
  {
   "cell_type": "code",
   "execution_count": 10,
   "id": "c8e5f323",
   "metadata": {},
   "outputs": [
    {
     "data": {
      "text/plain": [
       "<langgraph.graph.state.StateGraph at 0x1148d288560>"
      ]
     },
     "execution_count": 10,
     "metadata": {},
     "output_type": "execute_result"
    }
   ],
   "source": [
    "graph.add_node(\"Superbot\",superbot)\n",
    "graph.add_edge(START,\"Superbot\")\n",
    "graph.add_edge(\"Superbot\",END)"
   ]
  },
  {
   "cell_type": "code",
   "execution_count": 11,
   "metadata": {},
   "outputs": [],
   "source": [
    "graph_builder = graph.compile()"
   ]
  },
  {
   "cell_type": "code",
   "execution_count": 12,
   "id": "e83ce920",
   "metadata": {},
   "outputs": [
    {
     "data": {
      "image/png": "[encoded data removed]",
      "text/plain": [
       "<IPython.core.display.Image object>"
      ]
     },
     "metadata": {},
     "output_type": "display_data"
    }
   ],
   "source": [
    "from IPython.display import Image,display\n",
    "display(Image(graph_builder.get_graph().draw_mermaid_png()))"
   ]
  },
  {
   "cell_type": "code",
   "execution_count": 13,
   "id": "abefbcd5",
   "metadata": {},
   "outputs": [
    {
     "data": {
      "text/plain": [
       "{'messages': [HumanMessage(content='Hi, Iam karthik', additional_kwargs={}, response_metadata={}, id='398f9b13-141d-415a-b9d3-dc4c1991c2b8'),\n",
       "  AIMessage(content='<think>\\nOkay, the user sent \"Hi, Iam karthik\" and I need to respond appropriately. Let me start by acknowledging their greeting. I should correct the typo in \"Iam\" to \"I am\" for clarity. Then, I\\'ll offer assistance to show I\\'m ready to help. Keep it friendly and open-ended. Let me check for any other possible issues. The name Karthik is spelled correctly. Alright, time to put it all together in a natural, conversational tone.\\n</think>\\n\\nHi Karthik! 😊 I\\'m Qwen, nice to meet you. How can I assist you today? Let me know if you have any questions or need help with anything specific!', additional_kwargs={}, response_metadata={'token_usage': {'completion_tokens': 146, 'prompt_tokens': 15, 'total_tokens': 161, 'completion_time': 0.320318552, 'prompt_time': 0.023515422, 'queue_time': 0.045631828, 'total_time': 0.343833974}, 'model_name': 'qwen/qwen3-32b', 'system_fingerprint': 'fp_5cf921caa2', 'service_tier': 'on_demand', 'finish_reason': 'stop', 'logprobs': None}, id='run--24320524-0e6b-4cea-bbcf-d07cda474f53-0', usage_metadata={'input_tokens': 15, 'output_tokens': 146, 'total_tokens': 161})]}"
      ]
     },
     "execution_count": 13,
     "metadata": {},
     "output_type": "execute_result"
    }
   ],
   "source": [
    "graph_builder.invoke({\"messages\":\"Hi, Iam karthik\"})"
   ]
  },
  {
   "cell_type": "code",
   "execution_count": 14,
   "metadata": {},
   "outputs": [
    {
     "name": "stdout",
     "output_type": "stream",
     "text": [
      "{'Superbot': {'messages': [AIMessage(content=\"<think>\\nOkay, I need to respond to K2k who mentioned they love playing cricket. Let me start by acknowledging their interest. Cricket is a big sport, so maybe I can ask them about their favorite part of the game. Do they play a specific role like batting, bowling, or fielding? Also, which format do they prefer—Test, ODI, or T20? Maybe they follow a particular team or player. I should keep the conversation open-ended to let them share more. Let me make sure the tone is friendly and encouraging. Alright, time to put that together.\\n</think>\\n\\nHi K2k! 🏏 It's awesome to hear you love cricket! Do you play any specific role in the game, like batting, bowling, or fielding? Also, what's your favorite format—Test, ODI, or T20? I'd love to know more about what you enjoy most about the sport! 🎉\", additional_kwargs={}, response_metadata={'token_usage': {'completion_tokens': 196, 'prompt_tokens': 20, 'total_tokens': 216, 'completion_time': 0.413764131, 'prompt_time': 0.01154462, 'queue_time': 0.051333199, 'total_time': 0.425308751}, 'model_name': 'qwen/qwen3-32b', 'system_fingerprint': 'fp_5cf921caa2', 'service_tier': 'on_demand', 'finish_reason': 'stop', 'logprobs': None}, id='run--c5a0f3f8-832c-46f0-93bf-4be81f9faa27-0', usage_metadata={'input_tokens': 20, 'output_tokens': 196, 'total_tokens': 216})]}}\n"
     ]
    }
   ],
   "source": [
    "for event in graph_builder.stream({\"messages\":\"Hi, I am K2k. I love playing cricket\"}):\n",
    "    print(event)"
   ]
  }
 ],
 "metadata": {
  "kernelspec": {
   "display_name": "venv",
   "language": "python",
   "name": "python3"
  },
  "language_info": {
   "codemirror_mode": {
    "name": "ipython",
    "version": 3
   },
   "file_extension": ".py",
   "mimetype": "text/x-python",
   "name": "python",
   "nbconvert_exporter": "python",
   "pygments_lexer": "ipython3",
   "version": "3.12.0"
  }
 },
 "nbformat": 4,
 "nbformat_minor": 5
}
